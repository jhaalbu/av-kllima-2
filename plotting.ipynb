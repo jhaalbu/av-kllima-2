{
 "cells": [
  {
   "cell_type": "code",
   "execution_count": 6,
   "id": "75bdf7f7-b4cc-47dd-af4d-ed366fbbf779",
   "metadata": {},
   "outputs": [],
   "source": [
    "import klimadata\n",
    "import plot\n",
    "from pyextremes import EVA\n",
    "import pyextremes"
   ]
  },
  {
   "cell_type": "code",
   "execution_count": 7,
   "id": "2868d6a0-976e-47bd-b9dd-b5ef5de42903",
   "metadata": {},
   "outputs": [],
   "source": [
    "parameterliste = ['rr', 'tm', 'sd', 'fsw', 'sdfsw', 'sdfsw3d']\n",
    "lon = '6821432.82'\n",
    "lat= '70342.98'\n",
    "startdato = '1958-01-01'\n",
    "sluttdato = '2021-12-31'\n",
    "plottype = 'Klimaoversikt med 3 døgn snø og returverdi'\n",
    "annotert = True\n",
    "vind = True\n",
    "lon = int(float(lon.strip()))\n",
    "lat = int(float(lat.strip()))"
   ]
  },
  {
   "cell_type": "code",
   "execution_count": 8,
   "id": "d103fc6e-f360-404f-b14c-84250d7c5eea",
   "metadata": {},
   "outputs": [],
   "source": [
    "klimaretur = klimadata.nve_api(lat, lon, startdato, sluttdato, 'rr')"
   ]
  },
  {
   "cell_type": "code",
   "execution_count": null,
   "id": "f2dbb4a5-3e7c-4820-8ab4-a0d9d2b48235",
   "metadata": {},
   "outputs": [],
   "source": []
  },
  {
   "cell_type": "code",
   "execution_count": 20,
   "id": "85c56a9c-087a-4226-bd01-309aacb9ebf6",
   "metadata": {},
   "outputs": [
    {
     "data": {
      "text/html": [
       "<div>\n",
       "<style scoped>\n",
       "    .dataframe tbody tr th:only-of-type {\n",
       "        vertical-align: middle;\n",
       "    }\n",
       "\n",
       "    .dataframe tbody tr th {\n",
       "        vertical-align: top;\n",
       "    }\n",
       "\n",
       "    .dataframe thead th {\n",
       "        text-align: right;\n",
       "    }\n",
       "</style>\n",
       "<table border=\"1\" class=\"dataframe\">\n",
       "  <thead>\n",
       "    <tr style=\"text-align: right;\">\n",
       "      <th></th>\n",
       "      <th>rr</th>\n",
       "      <th>tm</th>\n",
       "      <th>sd</th>\n",
       "      <th>fsw</th>\n",
       "      <th>sdfsw</th>\n",
       "      <th>sdfsw3d</th>\n",
       "      <th>rr3</th>\n",
       "    </tr>\n",
       "  </thead>\n",
       "  <tbody>\n",
       "    <tr>\n",
       "      <th>1958-01-01</th>\n",
       "      <td>0.0</td>\n",
       "      <td>-9.25</td>\n",
       "      <td>33.3</td>\n",
       "      <td>0</td>\n",
       "      <td>0.0</td>\n",
       "      <td>4.6</td>\n",
       "      <td>0.0</td>\n",
       "    </tr>\n",
       "    <tr>\n",
       "      <th>1958-01-02</th>\n",
       "      <td>0.0</td>\n",
       "      <td>-13.05</td>\n",
       "      <td>33.0</td>\n",
       "      <td>0</td>\n",
       "      <td>0.0</td>\n",
       "      <td>4.6</td>\n",
       "      <td>0.0</td>\n",
       "    </tr>\n",
       "    <tr>\n",
       "      <th>1958-01-03</th>\n",
       "      <td>0.1</td>\n",
       "      <td>-15.05</td>\n",
       "      <td>33.0</td>\n",
       "      <td>0</td>\n",
       "      <td>0.1</td>\n",
       "      <td>0.1</td>\n",
       "      <td>0.1</td>\n",
       "    </tr>\n",
       "    <tr>\n",
       "      <th>1958-01-04</th>\n",
       "      <td>11.4</td>\n",
       "      <td>-10.55</td>\n",
       "      <td>49.0</td>\n",
       "      <td>13</td>\n",
       "      <td>18.6</td>\n",
       "      <td>18.7</td>\n",
       "      <td>11.5</td>\n",
       "    </tr>\n",
       "    <tr>\n",
       "      <th>1958-01-05</th>\n",
       "      <td>4.6</td>\n",
       "      <td>-4.65</td>\n",
       "      <td>50.1</td>\n",
       "      <td>5</td>\n",
       "      <td>4.7</td>\n",
       "      <td>23.4</td>\n",
       "      <td>16.1</td>\n",
       "    </tr>\n",
       "    <tr>\n",
       "      <th>...</th>\n",
       "      <td>...</td>\n",
       "      <td>...</td>\n",
       "      <td>...</td>\n",
       "      <td>...</td>\n",
       "      <td>...</td>\n",
       "      <td>...</td>\n",
       "      <td>...</td>\n",
       "    </tr>\n",
       "    <tr>\n",
       "      <th>2021-12-27</th>\n",
       "      <td>0.0</td>\n",
       "      <td>-6.85</td>\n",
       "      <td>19.8</td>\n",
       "      <td>0</td>\n",
       "      <td>0.0</td>\n",
       "      <td>0.0</td>\n",
       "      <td>4.7</td>\n",
       "    </tr>\n",
       "    <tr>\n",
       "      <th>2021-12-28</th>\n",
       "      <td>0.0</td>\n",
       "      <td>-8.15</td>\n",
       "      <td>19.3</td>\n",
       "      <td>0</td>\n",
       "      <td>0.0</td>\n",
       "      <td>0.0</td>\n",
       "      <td>3.8</td>\n",
       "    </tr>\n",
       "    <tr>\n",
       "      <th>2021-12-29</th>\n",
       "      <td>0.0</td>\n",
       "      <td>-5.25</td>\n",
       "      <td>18.8</td>\n",
       "      <td>0</td>\n",
       "      <td>0.0</td>\n",
       "      <td>0.0</td>\n",
       "      <td>0.0</td>\n",
       "    </tr>\n",
       "    <tr>\n",
       "      <th>2021-12-30</th>\n",
       "      <td>20.8</td>\n",
       "      <td>-3.95</td>\n",
       "      <td>33.3</td>\n",
       "      <td>21</td>\n",
       "      <td>18.5</td>\n",
       "      <td>6.7</td>\n",
       "      <td>20.8</td>\n",
       "    </tr>\n",
       "    <tr>\n",
       "      <th>2021-12-31</th>\n",
       "      <td>28.3</td>\n",
       "      <td>0.25</td>\n",
       "      <td>44.2</td>\n",
       "      <td>28</td>\n",
       "      <td>18.1</td>\n",
       "      <td>6.7</td>\n",
       "      <td>49.1</td>\n",
       "    </tr>\n",
       "  </tbody>\n",
       "</table>\n",
       "<p>23376 rows × 7 columns</p>\n",
       "</div>"
      ],
      "text/plain": [
       "              rr     tm    sd  fsw  sdfsw  sdfsw3d   rr3\n",
       "1958-01-01   0.0  -9.25  33.3    0    0.0      4.6   0.0\n",
       "1958-01-02   0.0 -13.05  33.0    0    0.0      4.6   0.0\n",
       "1958-01-03   0.1 -15.05  33.0    0    0.1      0.1   0.1\n",
       "1958-01-04  11.4 -10.55  49.0   13   18.6     18.7  11.5\n",
       "1958-01-05   4.6  -4.65  50.1    5    4.7     23.4  16.1\n",
       "...          ...    ...   ...  ...    ...      ...   ...\n",
       "2021-12-27   0.0  -6.85  19.8    0    0.0      0.0   4.7\n",
       "2021-12-28   0.0  -8.15  19.3    0    0.0      0.0   3.8\n",
       "2021-12-29   0.0  -5.25  18.8    0    0.0      0.0   0.0\n",
       "2021-12-30  20.8  -3.95  33.3   21   18.5      6.7  20.8\n",
       "2021-12-31  28.3   0.25  44.2   28   18.1      6.7  49.1\n",
       "\n",
       "[23376 rows x 7 columns]"
      ]
     },
     "execution_count": 20,
     "metadata": {},
     "output_type": "execute_result"
    }
   ],
   "source": [
    "df, altitude = klimadata.klima_dataframe(lat, lon, startdato, sluttdato, parameterliste)\n",
    "df"
   ]
  },
  {
   "cell_type": "code",
   "execution_count": 21,
   "id": "f0e925a9-6e96-4cfa-845d-2a3e67120ac0",
   "metadata": {},
   "outputs": [
    {
     "data": {
      "text/plain": [
       "0.0"
      ]
     },
     "execution_count": 21,
     "metadata": {},
     "output_type": "execute_result"
    }
   ],
   "source": [
    "df['sd'].min()"
   ]
  },
  {
   "cell_type": "code",
   "execution_count": 22,
   "id": "3a59a012-90a6-4fac-91e4-cfc839a1dfc1",
   "metadata": {},
   "outputs": [],
   "source": [
    "max_df = klimadata.maxdf(df)"
   ]
  },
  {
   "cell_type": "code",
   "execution_count": 23,
   "id": "9b548cb7-7863-4067-b29b-4b6a9000c173",
   "metadata": {},
   "outputs": [
    {
     "data": {
      "text/html": [
       "<div>\n",
       "<style scoped>\n",
       "    .dataframe tbody tr th:only-of-type {\n",
       "        vertical-align: middle;\n",
       "    }\n",
       "\n",
       "    .dataframe tbody tr th {\n",
       "        vertical-align: top;\n",
       "    }\n",
       "\n",
       "    .dataframe thead th {\n",
       "        text-align: right;\n",
       "    }\n",
       "</style>\n",
       "<table border=\"1\" class=\"dataframe\">\n",
       "  <thead>\n",
       "    <tr style=\"text-align: right;\">\n",
       "      <th></th>\n",
       "      <th>sdfsw3d</th>\n",
       "      <th>rr</th>\n",
       "      <th>rr3</th>\n",
       "      <th>sd</th>\n",
       "    </tr>\n",
       "  </thead>\n",
       "  <tbody>\n",
       "    <tr>\n",
       "      <th>1958-12-31</th>\n",
       "      <td>43.5</td>\n",
       "      <td>36.3</td>\n",
       "      <td>49.2</td>\n",
       "      <td>106.1</td>\n",
       "    </tr>\n",
       "    <tr>\n",
       "      <th>1959-12-31</th>\n",
       "      <td>39.8</td>\n",
       "      <td>49.7</td>\n",
       "      <td>64.6</td>\n",
       "      <td>91.8</td>\n",
       "    </tr>\n",
       "    <tr>\n",
       "      <th>1960-12-31</th>\n",
       "      <td>20.2</td>\n",
       "      <td>35.5</td>\n",
       "      <td>57.4</td>\n",
       "      <td>54.6</td>\n",
       "    </tr>\n",
       "    <tr>\n",
       "      <th>1961-12-31</th>\n",
       "      <td>42.7</td>\n",
       "      <td>40.3</td>\n",
       "      <td>75.0</td>\n",
       "      <td>84.3</td>\n",
       "    </tr>\n",
       "    <tr>\n",
       "      <th>1962-12-31</th>\n",
       "      <td>42.7</td>\n",
       "      <td>35.3</td>\n",
       "      <td>57.0</td>\n",
       "      <td>166.8</td>\n",
       "    </tr>\n",
       "    <tr>\n",
       "      <th>...</th>\n",
       "      <td>...</td>\n",
       "      <td>...</td>\n",
       "      <td>...</td>\n",
       "      <td>...</td>\n",
       "    </tr>\n",
       "    <tr>\n",
       "      <th>2017-12-31</th>\n",
       "      <td>47.8</td>\n",
       "      <td>42.1</td>\n",
       "      <td>75.7</td>\n",
       "      <td>121.9</td>\n",
       "    </tr>\n",
       "    <tr>\n",
       "      <th>2018-12-31</th>\n",
       "      <td>47.4</td>\n",
       "      <td>51.3</td>\n",
       "      <td>73.3</td>\n",
       "      <td>170.4</td>\n",
       "    </tr>\n",
       "    <tr>\n",
       "      <th>2019-12-31</th>\n",
       "      <td>25.5</td>\n",
       "      <td>55.9</td>\n",
       "      <td>91.7</td>\n",
       "      <td>56.4</td>\n",
       "    </tr>\n",
       "    <tr>\n",
       "      <th>2020-12-31</th>\n",
       "      <td>26.5</td>\n",
       "      <td>73.5</td>\n",
       "      <td>130.2</td>\n",
       "      <td>134.2</td>\n",
       "    </tr>\n",
       "    <tr>\n",
       "      <th>2021-12-31</th>\n",
       "      <td>36.0</td>\n",
       "      <td>53.7</td>\n",
       "      <td>75.5</td>\n",
       "      <td>44.2</td>\n",
       "    </tr>\n",
       "  </tbody>\n",
       "</table>\n",
       "<p>64 rows × 4 columns</p>\n",
       "</div>"
      ],
      "text/plain": [
       "            sdfsw3d    rr    rr3     sd\n",
       "1958-12-31     43.5  36.3   49.2  106.1\n",
       "1959-12-31     39.8  49.7   64.6   91.8\n",
       "1960-12-31     20.2  35.5   57.4   54.6\n",
       "1961-12-31     42.7  40.3   75.0   84.3\n",
       "1962-12-31     42.7  35.3   57.0  166.8\n",
       "...             ...   ...    ...    ...\n",
       "2017-12-31     47.8  42.1   75.7  121.9\n",
       "2018-12-31     47.4  51.3   73.3  170.4\n",
       "2019-12-31     25.5  55.9   91.7   56.4\n",
       "2020-12-31     26.5  73.5  130.2  134.2\n",
       "2021-12-31     36.0  53.7   75.5   44.2\n",
       "\n",
       "[64 rows x 4 columns]"
      ]
     },
     "execution_count": 23,
     "metadata": {},
     "output_type": "execute_result"
    }
   ],
   "source": [
    "max_df"
   ]
  },
  {
   "cell_type": "code",
   "execution_count": 24,
   "id": "6a4b5b9d-22a7-4f18-8e54-bbf151fe0c7c",
   "metadata": {},
   "outputs": [
    {
     "name": "stderr",
     "output_type": "stream",
     "text": [
      "2022-11-01 19:45:42.951 INFO    pyextremes.eva: successfully initialized EVA object\n"
     ]
    }
   ],
   "source": [
    "model = EVA(df['sdfsw3d'])"
   ]
  },
  {
   "cell_type": "code",
   "execution_count": 25,
   "id": "41086bb2-55db-4012-a8be-007e55e90e20",
   "metadata": {},
   "outputs": [
    {
     "name": "stderr",
     "output_type": "stream",
     "text": [
      "2022-11-01 19:45:43.150 INFO    pyextremes.eva: successfully extracted extreme values for method='BM' and extremes_type='high'\n",
      "2022-11-01 19:45:43.150 INFO    pyextremes.eva: successfully collected extreme value properties\n",
      "2022-11-01 19:45:43.150 INFO    pyextremes.eva: successfully created extremes transformer\n",
      "2022-11-01 19:45:43.150 INFO    pyextremes.eva: removing any previously declared models\n"
     ]
    }
   ],
   "source": [
    "model.get_extremes(method=\"BM\", block_size=\"365.2425D\")"
   ]
  },
  {
   "cell_type": "code",
   "execution_count": 26,
   "id": "2de0ce57-c189-4710-af02-bd6096c6293d",
   "metadata": {},
   "outputs": [
    {
     "name": "stdout",
     "output_type": "stream",
     "text": [
      "date-time\n",
      "1958-12-31    43.5\n",
      "1959-02-22    39.8\n",
      "1960-03-02    20.2\n",
      "1961-02-08    42.7\n",
      "1962-01-08    42.7\n",
      "Name: sdfsw3d, dtype: float64\n"
     ]
    }
   ],
   "source": [
    "print(model.extremes.head())"
   ]
  },
  {
   "cell_type": "code",
   "execution_count": 27,
   "id": "84f1566a-e242-4dc1-ae7b-c3e6349e0e5f",
   "metadata": {},
   "outputs": [
    {
     "data": {
      "text/plain": [
       "(<Figure size 768x480 with 1 Axes>,\n",
       " <AxesSubplot: xlabel='date-time', ylabel='sdfsw3d'>)"
      ]
     },
     "execution_count": 27,
     "metadata": {},
     "output_type": "execute_result"
    },
    {
     "data": {
      "image/png": "[encoded data removed]",
      "text/plain": [
       "<Figure size 768x480 with 1 Axes>"
      ]
     },
     "metadata": {},
     "output_type": "display_data"
    }
   ],
   "source": [
    "model.plot_extremes()"
   ]
  },
  {
   "cell_type": "code",
   "execution_count": 28,
   "id": "deb10196-e8db-46f9-9439-f8aac5144e0e",
   "metadata": {},
   "outputs": [
    {
     "name": "stdout",
     "output_type": "stream",
     "text": [
      "\n",
      "        Fit a model to the extracted extreme values.\n",
      "\n",
      "        Parameters\n",
      "        ----------\n",
      "        model : str, optional\n",
      "            Name of model. By default it is 'MLE'.\n",
      "            Name of model.\n",
      "            Supported models:\n",
      "                MLE - Maximum Likelihood Estimate (MLE) model.\n",
      "                    Based on 'scipy' package (scipy.stats.rv_continuous.fit).\n",
      "                Emcee - Markov Chain Monte Carlo (MCMC) model.\n",
      "                    Based on 'emcee' package by Daniel Foreman-Mackey.\n",
      "        distribution : str or scipy.stats.rv_continuous, optional\n",
      "            Distribution name compatible with scipy.stats\n",
      "            or a subclass of scipy.stats.rv_continuous.\n",
      "            See https://docs.scipy.org/doc/scipy/reference/stats.html\n",
      "            By default the distribution is selected automatically\n",
      "            as best between 'genextreme' and 'gumbel_r' for 'BM' extremes\n",
      "            and 'genpareto' and 'expon' for 'POT' extremes.\n",
      "            Best distribution is selected using the AIC metric.\n",
      "        distribution_kwargs : dict, optional\n",
      "            Special keyword arguments, passsed to the `.fit` method of the distribution.\n",
      "            These keyword arguments represent parameters to be held fixed.\n",
      "            Names of parameters to be fixed must have 'f' prefixes. Valid parameters:\n",
      "                - shape(s): 'fc', e.g. fc=0\n",
      "                - location: 'floc', e.g. floc=0\n",
      "                - scale: 'fscale', e.g. fscale=1\n",
      "            See documentation of a specific scipy.stats distribution\n",
      "            for names of available parameters.\n",
      "            By default, location parameter for 'genpareto' and 'expon' distributions\n",
      "            is fixed to threshold (POT) or to minimum extremes (BM) value.\n",
      "            Set to empty dictionary (distribution_kwargs={}) to avoid this behaviour.\n",
      "        kwargs\n",
      "            Keyword arguments passed to a model .fit method.\n",
      "            MLE model:\n",
      "                MLE model takes no additional arguments.\n",
      "            Emcee model:\n",
      "                n_walkers : int, optional\n",
      "                    The number of walkers in the ensemble (default=100).\n",
      "                n_samples : int, optional\n",
      "                    The number of steps to run (default=500).\n",
      "                progress : bool or str, optional\n",
      "                    If True, a progress bar will be shown as the sampler progresses.\n",
      "                    If a string, will select a specific tqdm progress bar.\n",
      "                    Most notable is 'notebook', which shows a progress bar\n",
      "                    suitable for Jupyter notebooks.\n",
      "                    If False (default), no progress bar will be shown.\n",
      "                    This progress bar is a part of the `emcee` package.\n",
      "\n",
      "        \n"
     ]
    }
   ],
   "source": [
    "print(model.fit_model.__doc__)"
   ]
  },
  {
   "cell_type": "code",
   "execution_count": 29,
   "id": "15c33df3-8022-4dbc-afdd-d5ee02c737ab",
   "metadata": {},
   "outputs": [],
   "source": [
    "model.fit_model(model=\"MLE\", distribution=\"gumbel_r\")"
   ]
  },
  {
   "cell_type": "code",
   "execution_count": 30,
   "id": "4f81b033-a4dd-4f42-a9d6-5f3047e43787",
   "metadata": {},
   "outputs": [
    {
     "name": "stderr",
     "output_type": "stream",
     "text": [
      "C:\\Users\\Eigar\\koding\\av-kllima-2\\klima10\\lib\\site-packages\\numpy\\lib\\function_base.py:4527: RuntimeWarning: invalid value encountered in subtract\n",
      "  diff_b_a = subtract(b, a)\n"
     ]
    }
   ],
   "source": [
    "summary = model.get_summary(\n",
    "    return_period=[1, 2, 5, 10, 25, 50, 100, 250, 500, 1000],\n",
    "    alpha=0.95,\n",
    "    n_samples=1000,\n",
    ")"
   ]
  },
  {
   "cell_type": "code",
   "execution_count": 31,
   "id": "f318fa87-14b5-4a3e-a531-28575e30cc00",
   "metadata": {},
   "outputs": [
    {
     "name": "stdout",
     "output_type": "stream",
     "text": [
      "               return value    lower ci    upper ci\n",
      "return period                                      \n",
      "1.0                    -inf         NaN         NaN\n",
      "2.0               47.731678   44.576059   51.024272\n",
      "5.0               62.041067   57.425448   66.566240\n",
      "10.0              71.515127   65.308187   77.149637\n",
      "25.0              83.485627   74.946584   90.690282\n",
      "50.0              92.366028   82.040128  100.937465\n",
      "100.0            101.180857   89.121921  111.157489\n",
      "250.0            112.787021   98.135676  124.952407\n",
      "500.0            121.550582  105.141011  134.992607\n",
      "1000.0           130.307807  112.021211  145.260127\n"
     ]
    }
   ],
   "source": [
    "print(summary)"
   ]
  },
  {
   "cell_type": "code",
   "execution_count": 32,
   "id": "7402a553-1304-40ed-a9fb-8fbd470e10f8",
   "metadata": {},
   "outputs": [
    {
     "name": "stdout",
     "output_type": "stream",
     "text": [
      "date-time\n",
      "1958-12-31    43.5\n",
      "1959-02-22    39.8\n",
      "1960-03-02    20.2\n",
      "1961-02-08    42.7\n",
      "1962-01-08    42.7\n",
      "              ... \n",
      "2017-12-09    47.8\n",
      "2018-01-25    47.4\n",
      "2019-12-11    25.5\n",
      "2020-03-18    26.5\n",
      "2021-04-07    36.0\n",
      "Name: sdfsw3d, Length: 64, dtype: float64\n"
     ]
    }
   ],
   "source": [
    "print(model.extremes)"
   ]
  },
  {
   "cell_type": "code",
   "execution_count": 33,
   "id": "7ec30182-48ff-4ed1-b5df-b326885e779f",
   "metadata": {},
   "outputs": [
    {
     "data": {
      "text/plain": [
       "(<Figure size 768x768 with 4 Axes>,\n",
       " (<AxesSubplot: title={'center': 'Return value plot'}, xlabel='Return period', ylabel='sdfsw3d'>,\n",
       "  <AxesSubplot: title={'center': 'Probability density plot'}, xlabel='sdfsw3d', ylabel='Probability density'>,\n",
       "  <AxesSubplot: title={'center': 'Q-Q plot'}, xlabel='Theoretical', ylabel='Observed'>,\n",
       "  <AxesSubplot: title={'center': 'P-P plot'}, xlabel='Theoretical', ylabel='Observed'>))"
      ]
     },
     "execution_count": 33,
     "metadata": {},
     "output_type": "execute_result"
    }
   ],
   "source": [
    "model.plot_diagnostic(alpha=0.95)"
   ]
  },
  {
   "cell_type": "code",
   "execution_count": 34,
   "id": "6b77a60c-1856-48e7-a559-5fdc161e2981",
   "metadata": {},
   "outputs": [
    {
     "data": {
      "text/plain": [
       "(<Figure size 768x480 with 1 Axes>,\n",
       " <AxesSubplot: xlabel='Return period', ylabel='sdfsw3d'>)"
      ]
     },
     "execution_count": 34,
     "metadata": {},
     "output_type": "execute_result"
    }
   ],
   "source": [
    "model.plot_return_values(alpha=0.95)"
   ]
  },
  {
   "cell_type": "code",
   "execution_count": 35,
   "id": "2509d01b-0b12-48a8-8eb5-905f94e79e34",
   "metadata": {},
   "outputs": [],
   "source": [
    "def ekstremverdi_3d_sd(df):\n",
    "    data = df['sdfsw3d']\n",
    "    model = EVA(data=data)\n",
    "    model.get_extremes(\n",
    "    method=\"BM\",\n",
    "    extremes_type=\"high\",\n",
    "    block_size=\"365.2425D\",\n",
    "    errors=\"raise\",\n",
    "    )\n",
    "    model.fit_model(model=\"MLE\", distribution=\"gumbel_r\")\n",
    "\n",
    "\n",
    "    fig, ax1 = model.plot_return_values(\n",
    "    return_period=np.logspace(0.01, 3.75, 5000),\n",
    "    alpha=0.95,\n",
    "    )\n",
    "\n",
    "    summary = model.get_summary(\n",
    "    return_period=[100, 1000, 5000],\n",
    "    alpha=0.95,\n",
    "    n_samples=1000,\n",
    "    )\n",
    "\n",
    "    ax1.set_xlabel('Returperiode (År)')\n",
    "    ax1.set_ylabel('Maksimal årlig 3 døgns nysnøhøgde (cm)')\n",
    "    ax1.text(100, \n",
    "            summary['return value'].min()*0.3, \n",
    "            '100 år returverdi: ' + str(round(summary['return value'].loc[100.0])) + ' cm \\n'\n",
    "            '1000 år returverdi: ' + str(round(summary['return value'].loc[1000.0])) + ' cm \\n'\n",
    "            '5000 år returverdi: ' + str(round(summary['return value'].loc[5000.0])) + ' cm \\n' )\n",
    "\n",
    "    return fig, ax1\n"
   ]
  },
  {
   "cell_type": "code",
   "execution_count": 36,
   "id": "74541ff7-b95c-4acf-bb80-d962d18a6696",
   "metadata": {},
   "outputs": [
    {
     "name": "stderr",
     "output_type": "stream",
     "text": [
      "2022-11-01 19:45:48.876 INFO    pyextremes.eva: successfully initialized EVA object\n",
      "2022-11-01 19:45:48.906 INFO    pyextremes.eva: successfully extracted extreme values for method='BM' and extremes_type='high'\n",
      "2022-11-01 19:45:48.907 INFO    pyextremes.eva: successfully collected extreme value properties\n",
      "2022-11-01 19:45:48.907 INFO    pyextremes.eva: successfully created extremes transformer\n",
      "2022-11-01 19:45:48.908 INFO    pyextremes.eva: removing any previously declared models\n"
     ]
    },
    {
     "data": {
      "text/plain": [
       "(<Figure size 768x480 with 1 Axes>,\n",
       " <AxesSubplot: xlabel='Returperiode (År)', ylabel='Maksimal årlig 3 døgns nysnøhøgde (cm)'>)"
      ]
     },
     "execution_count": 36,
     "metadata": {},
     "output_type": "execute_result"
    }
   ],
   "source": [
    "plot.ekstremverdi_3d_sd(df)\n"
   ]
  },
  {
   "cell_type": "code",
   "execution_count": 37,
   "id": "6594d458-fb07-41b7-9eb0-4c303e1a4d84",
   "metadata": {},
   "outputs": [],
   "source": [
    "def gammel_plot_ekstremverdier_3dsno(df, ax1=None):\n",
    "    maximal = maxdf(df)\n",
    "    liste =  maximal['sdfsw3d'].tolist()\n",
    "    array = np.array(liste)\n",
    "    model = e.Gumbel(array, fit_method = 'mle', ci = 0.05, ci_method = 'delta')\n",
    "    \n",
    "    if ax1 is None:\n",
    "        ax1 = plt.gca()\n",
    "\n",
    "    return model.plot_return_values('3ds')"
   ]
  },
  {
   "cell_type": "code",
   "execution_count": 38,
   "id": "ce9a7db1-47a7-44d9-a258-4d9aba499cb9",
   "metadata": {},
   "outputs": [
    {
     "ename": "NameError",
     "evalue": "name 'maxdf' is not defined",
     "output_type": "error",
     "traceback": [
      "\u001b[1;31m--------------------------------------------------------------------\u001b[0m",
      "\u001b[1;31mNameError\u001b[0m                          Traceback (most recent call last)",
      "Cell \u001b[1;32mIn [38], line 1\u001b[0m\n\u001b[1;32m----> 1\u001b[0m \u001b[43mgammel_plot_ekstremverdier_3dsno\u001b[49m\u001b[43m(\u001b[49m\u001b[43mdf\u001b[49m\u001b[43m)\u001b[49m\n",
      "Cell \u001b[1;32mIn [37], line 2\u001b[0m, in \u001b[0;36mgammel_plot_ekstremverdier_3dsno\u001b[1;34m(df, ax1)\u001b[0m\n\u001b[0;32m      1\u001b[0m \u001b[38;5;28;01mdef\u001b[39;00m \u001b[38;5;21mgammel_plot_ekstremverdier_3dsno\u001b[39m(df, ax1\u001b[38;5;241m=\u001b[39m\u001b[38;5;28;01mNone\u001b[39;00m):\n\u001b[1;32m----> 2\u001b[0m     maximal \u001b[38;5;241m=\u001b[39m \u001b[43mmaxdf\u001b[49m(df)\n\u001b[0;32m      3\u001b[0m     liste \u001b[38;5;241m=\u001b[39m  maximal[\u001b[38;5;124m'\u001b[39m\u001b[38;5;124msdfsw3d\u001b[39m\u001b[38;5;124m'\u001b[39m]\u001b[38;5;241m.\u001b[39mtolist()\n\u001b[0;32m      4\u001b[0m     array \u001b[38;5;241m=\u001b[39m np\u001b[38;5;241m.\u001b[39marray(liste)\n",
      "\u001b[1;31mNameError\u001b[0m: name 'maxdf' is not defined"
     ]
    }
   ],
   "source": [
    "gammel_plot_ekstremverdier_3dsno(df)"
   ]
  },
  {
   "cell_type": "code",
   "execution_count": null,
   "id": "902c25b2-297b-445e-ac5c-82546c8f9557",
   "metadata": {},
   "outputs": [],
   "source": [
    "data = df['sdfsw3d']\n",
    "model = EVA(data=data)\n",
    "model.get_extremes(\n",
    "method=\"BM\",\n",
    "extremes_type=\"high\",\n",
    "block_size=\"365.2425D\",\n",
    "errors=\"raise\",\n",
    ")\n",
    "model.fit_model(model=\"MLE\", distribution=\"gumbel_r\")\n",
    "\n",
    "# if ax1 is None:\n",
    "#     ax1 = plt.gca()\n",
    "\n",
    "fig, ax1 = model.plot_return_values(\n",
    "return_period=np.logspace(0.01, 3.75, 5000),\n",
    "alpha=0.95,\n",
    ")\n",
    "\n",
    "summary = model.get_summary(\n",
    "return_period=[100, 1000, 5000],\n",
    "alpha=0.95,\n",
    "n_samples=1000,\n",
    ")\n",
    "\n",
    "ax1.set_xlabel('Returperiode (År)')\n",
    "ax1.set_ylabel('Maksimal årlig 3 døgns nysnøhøgde (cm)')\n",
    "ax1.text(100, \n",
    "        summary['return value'].min()*0.3, \n",
    "        '100 år returverdi: ' + str(round(summary['return value'].loc[100.0])) + ' cm \\n'\n",
    "        '1000 år returverdi: ' + str(round(summary['return value'].loc[1000.0])) + ' cm \\n'\n",
    "        '5000 år returverdi: ' + str(round(summary['return value'].loc[5000.0])) + ' cm \\n' )\n"
   ]
  },
  {
   "cell_type": "code",
   "execution_count": null,
   "id": "7332f3f9-0049-495d-9d13-16d72afd78b6",
   "metadata": {},
   "outputs": [],
   "source": []
  },
  {
   "cell_type": "code",
   "execution_count": null,
   "id": "6c0ad9b1-fad8-43dd-9337-4aa26b8f349c",
   "metadata": {},
   "outputs": [],
   "source": []
  },
  {
   "cell_type": "code",
   "execution_count": null,
   "id": "2fa2956d-c422-4898-901c-6716fe633d3a",
   "metadata": {},
   "outputs": [],
   "source": []
  }
 ],
 "metadata": {
  "kernelspec": {
   "display_name": "Python 3 (ipykernel)",
   "language": "python",
   "name": "python3"
  },
  "language_info": {
   "codemirror_mode": {
    "name": "ipython",
    "version": 3
   },
   "file_extension": ".py",
   "mimetype": "text/x-python",
   "name": "python",
   "nbconvert_exporter": "python",
   "pygments_lexer": "ipython3",
   "version": "3.10.8"
  }
 },
 "nbformat": 4,
 "nbformat_minor": 5
}
